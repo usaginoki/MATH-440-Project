{
 "cells": [
  {
   "cell_type": "markdown",
   "id": "1bb3641c",
   "metadata": {},
   "source": [
    "# Math 440 Final Project\n",
    "Regression analysis"
   ]
  },
  {
   "cell_type": "markdown",
   "id": "bf2a313b",
   "metadata": {},
   "source": [
    "This notebook contains code implementation and answers for the final project of MATH 440 Regression analysis course. The main purpose is to construct and analyse the a linear regression model on a designated dataset."
   ]
  },
  {
   "cell_type": "code",
   "execution_count": 1,
   "id": "bc255ab7",
   "metadata": {},
   "outputs": [],
   "source": [
    "import numpy as np\n",
    "import pandas as pd\n",
    "import seaborn as sns\n",
    "import matplotlib.pyplot as plt\n",
    "from sklearn.linear_model import LinearRegression, Lasso\n",
    "import sklearn.metrics\n",
    "import scipy.stats as stats\n",
    "import statsmodels.api as sm\n",
    "import pylab\n",
    "import scipy.stats as stats"
   ]
  },
  {
   "cell_type": "code",
   "execution_count": 2,
   "id": "86a40a04",
   "metadata": {},
   "outputs": [],
   "source": [
    "loc = \"C:/Users\\Arthur\\Desktop\\Study\\Fall2022\\Regression Analysis\\data23.txt\"\n",
    "with open(loc, \"r\") as f:\n",
    "    records = f.readlines()\n",
    "data = [line.split() for line in records]\n",
    "for i in range(len(data)):\n",
    "    data[i] = [float(x) for x in data[i]]\n",
    "data = np.array(data)\n",
    "data = pd.DataFrame(data)\n",
    "data\n",
    "data.columns = range(1, 15)"
   ]
  },
  {
   "cell_type": "code",
   "execution_count": 3,
   "id": "c02b7a15",
   "metadata": {},
   "outputs": [],
   "source": [
    "def lay_low(data):\n",
    "    tp = dict()\n",
    "    arr = np.array(data[14][range(1,14)])\n",
    "    for i in range(1, 14):\n",
    "        tp[str(i)] = [arr[i-1]]\n",
    "    tp = pd.DataFrame(tp)\n",
    "    tp.add_prefix(\"X\")\n",
    "    return tp"
   ]
  },
  {
   "cell_type": "markdown",
   "id": "ef5e4dbf",
   "metadata": {},
   "source": [
    "## task 1: covariance and correlation of $(X_i, Y)$"
   ]
  },
  {
   "cell_type": "code",
   "execution_count": 4,
   "id": "72674d93",
   "metadata": {},
   "outputs": [
    {
     "data": {
      "text/html": [
       "<div>\n",
       "<style scoped>\n",
       "    .dataframe tbody tr th:only-of-type {\n",
       "        vertical-align: middle;\n",
       "    }\n",
       "\n",
       "    .dataframe tbody tr th {\n",
       "        vertical-align: top;\n",
       "    }\n",
       "\n",
       "    .dataframe thead th {\n",
       "        text-align: right;\n",
       "    }\n",
       "</style>\n",
       "<table border=\"1\" class=\"dataframe\">\n",
       "  <thead>\n",
       "    <tr style=\"text-align: right;\">\n",
       "      <th></th>\n",
       "      <th>1</th>\n",
       "      <th>2</th>\n",
       "      <th>3</th>\n",
       "      <th>4</th>\n",
       "      <th>5</th>\n",
       "      <th>6</th>\n",
       "      <th>7</th>\n",
       "      <th>8</th>\n",
       "      <th>9</th>\n",
       "      <th>10</th>\n",
       "      <th>11</th>\n",
       "      <th>12</th>\n",
       "      <th>13</th>\n",
       "    </tr>\n",
       "  </thead>\n",
       "  <tbody>\n",
       "    <tr>\n",
       "      <th>0</th>\n",
       "      <td>98.682002</td>\n",
       "      <td>91.311316</td>\n",
       "      <td>297.104863</td>\n",
       "      <td>-18.17601</td>\n",
       "      <td>7.742981</td>\n",
       "      <td>92.481394</td>\n",
       "      <td>-179.303895</td>\n",
       "      <td>-34.763279</td>\n",
       "      <td>-345.528379</td>\n",
       "      <td>72.841678</td>\n",
       "      <td>-360.15215</td>\n",
       "      <td>-149.60167</td>\n",
       "      <td>295.141149</td>\n",
       "    </tr>\n",
       "  </tbody>\n",
       "</table>\n",
       "</div>"
      ],
      "text/plain": [
       "           1          2           3         4         5          6  \\\n",
       "0  98.682002  91.311316  297.104863 -18.17601  7.742981  92.481394   \n",
       "\n",
       "            7          8           9         10         11         12  \\\n",
       "0 -179.303895 -34.763279 -345.528379  72.841678 -360.15215 -149.60167   \n",
       "\n",
       "           13  \n",
       "0  295.141149  "
      ]
     },
     "execution_count": 4,
     "metadata": {},
     "output_type": "execute_result"
    }
   ],
   "source": [
    "data_cov = data.cov()\n",
    "lay_low(data_cov)"
   ]
  },
  {
   "cell_type": "code",
   "execution_count": 5,
   "id": "d5e4bc9d",
   "metadata": {},
   "outputs": [
    {
     "data": {
      "text/html": [
       "<div>\n",
       "<style scoped>\n",
       "    .dataframe tbody tr th:only-of-type {\n",
       "        vertical-align: middle;\n",
       "    }\n",
       "\n",
       "    .dataframe tbody tr th {\n",
       "        vertical-align: top;\n",
       "    }\n",
       "\n",
       "    .dataframe thead th {\n",
       "        text-align: right;\n",
       "    }\n",
       "</style>\n",
       "<table border=\"1\" class=\"dataframe\">\n",
       "  <thead>\n",
       "    <tr style=\"text-align: right;\">\n",
       "      <th></th>\n",
       "      <th>1</th>\n",
       "      <th>2</th>\n",
       "      <th>3</th>\n",
       "      <th>4</th>\n",
       "      <th>5</th>\n",
       "      <th>6</th>\n",
       "      <th>7</th>\n",
       "      <th>8</th>\n",
       "      <th>9</th>\n",
       "      <th>10</th>\n",
       "      <th>11</th>\n",
       "      <th>12</th>\n",
       "      <th>13</th>\n",
       "    </tr>\n",
       "  </thead>\n",
       "  <tbody>\n",
       "    <tr>\n",
       "      <th>0</th>\n",
       "      <td>0.166054</td>\n",
       "      <td>0.171595</td>\n",
       "      <td>0.483048</td>\n",
       "      <td>-0.031597</td>\n",
       "      <td>0.014599</td>\n",
       "      <td>0.154374</td>\n",
       "      <td>-0.305835</td>\n",
       "      <td>-0.067215</td>\n",
       "      <td>-0.600967</td>\n",
       "      <td>0.128996</td>\n",
       "      <td>-0.683427</td>\n",
       "      <td>-0.297202</td>\n",
       "      <td>0.524442</td>\n",
       "    </tr>\n",
       "  </tbody>\n",
       "</table>\n",
       "</div>"
      ],
      "text/plain": [
       "          1         2         3         4         5         6         7  \\\n",
       "0  0.166054  0.171595  0.483048 -0.031597  0.014599  0.154374 -0.305835   \n",
       "\n",
       "          8         9        10        11        12        13  \n",
       "0 -0.067215 -0.600967  0.128996 -0.683427 -0.297202  0.524442  "
      ]
     },
     "execution_count": 5,
     "metadata": {},
     "output_type": "execute_result"
    }
   ],
   "source": [
    "data_corr = data.corr()\n",
    "lay_low(data_corr)"
   ]
  },
  {
   "cell_type": "markdown",
   "id": "b4348a6c",
   "metadata": {},
   "source": [
    "## task 2: Absolute correlation"
   ]
  },
  {
   "cell_type": "code",
   "execution_count": 6,
   "id": "8b047c6e",
   "metadata": {},
   "outputs": [
    {
     "data": {
      "text/html": [
       "<div>\n",
       "<style scoped>\n",
       "    .dataframe tbody tr th:only-of-type {\n",
       "        vertical-align: middle;\n",
       "    }\n",
       "\n",
       "    .dataframe tbody tr th {\n",
       "        vertical-align: top;\n",
       "    }\n",
       "\n",
       "    .dataframe thead th {\n",
       "        text-align: right;\n",
       "    }\n",
       "</style>\n",
       "<table border=\"1\" class=\"dataframe\">\n",
       "  <thead>\n",
       "    <tr style=\"text-align: right;\">\n",
       "      <th></th>\n",
       "      <th>1</th>\n",
       "      <th>2</th>\n",
       "      <th>3</th>\n",
       "      <th>4</th>\n",
       "      <th>5</th>\n",
       "      <th>6</th>\n",
       "      <th>7</th>\n",
       "      <th>8</th>\n",
       "      <th>9</th>\n",
       "      <th>10</th>\n",
       "      <th>11</th>\n",
       "      <th>12</th>\n",
       "      <th>13</th>\n",
       "    </tr>\n",
       "  </thead>\n",
       "  <tbody>\n",
       "    <tr>\n",
       "      <th>0</th>\n",
       "      <td>0.166054</td>\n",
       "      <td>0.171595</td>\n",
       "      <td>0.483048</td>\n",
       "      <td>0.031597</td>\n",
       "      <td>0.014599</td>\n",
       "      <td>0.154374</td>\n",
       "      <td>0.305835</td>\n",
       "      <td>0.067215</td>\n",
       "      <td>0.600967</td>\n",
       "      <td>0.128996</td>\n",
       "      <td>0.683427</td>\n",
       "      <td>0.297202</td>\n",
       "      <td>0.524442</td>\n",
       "    </tr>\n",
       "  </tbody>\n",
       "</table>\n",
       "</div>"
      ],
      "text/plain": [
       "          1         2         3         4         5         6         7  \\\n",
       "0  0.166054  0.171595  0.483048  0.031597  0.014599  0.154374  0.305835   \n",
       "\n",
       "          8         9        10        11        12        13  \n",
       "0  0.067215  0.600967  0.128996  0.683427  0.297202  0.524442  "
      ]
     },
     "execution_count": 6,
     "metadata": {},
     "output_type": "execute_result"
    }
   ],
   "source": [
    "data_abs_corr = np.abs(data.corr())\n",
    "lay_low(data_abs_corr)"
   ]
  },
  {
   "cell_type": "markdown",
   "id": "c7288188",
   "metadata": {},
   "source": [
    "## Question 1: Based only on the latter correlation, can you list all variables that is relevant for prediction?"
   ]
  },
  {
   "cell_type": "markdown",
   "id": "bf71c648",
   "metadata": {},
   "source": [
    "The bigger the absolute value of correlation between some variable and the target, the more relevant said variable is for prediction. Formally, using a Pearsosn's correlation coefficient test at $0.05$ significance level for $298$ df we fail to reject $H_0$ for the following variables: $X_1, X_2, X_3, X_6, X_7, X_9, X_{10} X_{11}, X_{12}, X_{13}$\n",
    "\n",
    "However, correlation alone may not give a conclusive result. Additional t-test is required."
   ]
  },
  {
   "cell_type": "markdown",
   "id": "b190f448",
   "metadata": {},
   "source": [
    "## task 4: Correlation of variables"
   ]
  },
  {
   "cell_type": "code",
   "execution_count": 7,
   "id": "5fcde7ac",
   "metadata": {},
   "outputs": [
    {
     "data": {
      "text/html": [
       "<div>\n",
       "<style scoped>\n",
       "    .dataframe tbody tr th:only-of-type {\n",
       "        vertical-align: middle;\n",
       "    }\n",
       "\n",
       "    .dataframe tbody tr th {\n",
       "        vertical-align: top;\n",
       "    }\n",
       "\n",
       "    .dataframe thead th {\n",
       "        text-align: right;\n",
       "    }\n",
       "</style>\n",
       "<table border=\"1\" class=\"dataframe\">\n",
       "  <thead>\n",
       "    <tr style=\"text-align: right;\">\n",
       "      <th></th>\n",
       "      <th>1</th>\n",
       "      <th>2</th>\n",
       "      <th>3</th>\n",
       "      <th>4</th>\n",
       "      <th>5</th>\n",
       "      <th>6</th>\n",
       "      <th>7</th>\n",
       "      <th>8</th>\n",
       "      <th>9</th>\n",
       "      <th>10</th>\n",
       "      <th>11</th>\n",
       "      <th>12</th>\n",
       "      <th>13</th>\n",
       "    </tr>\n",
       "  </thead>\n",
       "  <tbody>\n",
       "    <tr>\n",
       "      <th>1</th>\n",
       "      <td>1.000000</td>\n",
       "      <td>0.905987</td>\n",
       "      <td>-0.058061</td>\n",
       "      <td>-0.109712</td>\n",
       "      <td>0.019934</td>\n",
       "      <td>0.014084</td>\n",
       "      <td>-0.051011</td>\n",
       "      <td>-0.113958</td>\n",
       "      <td>0.034869</td>\n",
       "      <td>0.014837</td>\n",
       "      <td>0.002802</td>\n",
       "      <td>-0.019820</td>\n",
       "      <td>-0.041378</td>\n",
       "    </tr>\n",
       "    <tr>\n",
       "      <th>2</th>\n",
       "      <td>0.905987</td>\n",
       "      <td>1.000000</td>\n",
       "      <td>-0.046611</td>\n",
       "      <td>-0.079669</td>\n",
       "      <td>0.015120</td>\n",
       "      <td>0.014146</td>\n",
       "      <td>-0.069957</td>\n",
       "      <td>-0.080885</td>\n",
       "      <td>0.045840</td>\n",
       "      <td>0.014604</td>\n",
       "      <td>0.029814</td>\n",
       "      <td>-0.023321</td>\n",
       "      <td>-0.024881</td>\n",
       "    </tr>\n",
       "    <tr>\n",
       "      <th>3</th>\n",
       "      <td>-0.058061</td>\n",
       "      <td>-0.046611</td>\n",
       "      <td>1.000000</td>\n",
       "      <td>0.021284</td>\n",
       "      <td>-0.004270</td>\n",
       "      <td>0.080113</td>\n",
       "      <td>0.032160</td>\n",
       "      <td>0.041422</td>\n",
       "      <td>0.078583</td>\n",
       "      <td>0.079103</td>\n",
       "      <td>0.065475</td>\n",
       "      <td>0.068031</td>\n",
       "      <td>0.922672</td>\n",
       "    </tr>\n",
       "    <tr>\n",
       "      <th>4</th>\n",
       "      <td>-0.109712</td>\n",
       "      <td>-0.079669</td>\n",
       "      <td>0.021284</td>\n",
       "      <td>1.000000</td>\n",
       "      <td>0.050188</td>\n",
       "      <td>0.013692</td>\n",
       "      <td>-0.002636</td>\n",
       "      <td>0.873203</td>\n",
       "      <td>-0.055007</td>\n",
       "      <td>0.011252</td>\n",
       "      <td>-0.039329</td>\n",
       "      <td>-0.025904</td>\n",
       "      <td>0.040678</td>\n",
       "    </tr>\n",
       "    <tr>\n",
       "      <th>5</th>\n",
       "      <td>0.019934</td>\n",
       "      <td>0.015120</td>\n",
       "      <td>-0.004270</td>\n",
       "      <td>0.050188</td>\n",
       "      <td>1.000000</td>\n",
       "      <td>-0.094048</td>\n",
       "      <td>-0.015061</td>\n",
       "      <td>0.092392</td>\n",
       "      <td>-0.016667</td>\n",
       "      <td>-0.109689</td>\n",
       "      <td>-0.035225</td>\n",
       "      <td>-0.038398</td>\n",
       "      <td>-0.014749</td>\n",
       "    </tr>\n",
       "    <tr>\n",
       "      <th>6</th>\n",
       "      <td>0.014084</td>\n",
       "      <td>0.014146</td>\n",
       "      <td>0.080113</td>\n",
       "      <td>0.013692</td>\n",
       "      <td>-0.094048</td>\n",
       "      <td>1.000000</td>\n",
       "      <td>-0.048396</td>\n",
       "      <td>-0.019820</td>\n",
       "      <td>0.084874</td>\n",
       "      <td>0.901242</td>\n",
       "      <td>0.019025</td>\n",
       "      <td>-0.047975</td>\n",
       "      <td>0.090291</td>\n",
       "    </tr>\n",
       "    <tr>\n",
       "      <th>7</th>\n",
       "      <td>-0.051011</td>\n",
       "      <td>-0.069957</td>\n",
       "      <td>0.032160</td>\n",
       "      <td>-0.002636</td>\n",
       "      <td>-0.015061</td>\n",
       "      <td>-0.048396</td>\n",
       "      <td>1.000000</td>\n",
       "      <td>-0.003091</td>\n",
       "      <td>-0.036833</td>\n",
       "      <td>-0.049833</td>\n",
       "      <td>-0.043925</td>\n",
       "      <td>0.909320</td>\n",
       "      <td>0.015141</td>\n",
       "    </tr>\n",
       "    <tr>\n",
       "      <th>8</th>\n",
       "      <td>-0.113958</td>\n",
       "      <td>-0.080885</td>\n",
       "      <td>0.041422</td>\n",
       "      <td>0.873203</td>\n",
       "      <td>0.092392</td>\n",
       "      <td>-0.019820</td>\n",
       "      <td>-0.003091</td>\n",
       "      <td>1.000000</td>\n",
       "      <td>-0.020271</td>\n",
       "      <td>-0.015499</td>\n",
       "      <td>0.001804</td>\n",
       "      <td>-0.013416</td>\n",
       "      <td>0.065309</td>\n",
       "    </tr>\n",
       "    <tr>\n",
       "      <th>9</th>\n",
       "      <td>0.034869</td>\n",
       "      <td>0.045840</td>\n",
       "      <td>0.078583</td>\n",
       "      <td>-0.055007</td>\n",
       "      <td>-0.016667</td>\n",
       "      <td>0.084874</td>\n",
       "      <td>-0.036833</td>\n",
       "      <td>-0.020271</td>\n",
       "      <td>1.000000</td>\n",
       "      <td>0.113340</td>\n",
       "      <td>0.892367</td>\n",
       "      <td>-0.023828</td>\n",
       "      <td>0.077312</td>\n",
       "    </tr>\n",
       "    <tr>\n",
       "      <th>10</th>\n",
       "      <td>0.014837</td>\n",
       "      <td>0.014604</td>\n",
       "      <td>0.079103</td>\n",
       "      <td>0.011252</td>\n",
       "      <td>-0.109689</td>\n",
       "      <td>0.901242</td>\n",
       "      <td>-0.049833</td>\n",
       "      <td>-0.015499</td>\n",
       "      <td>0.113340</td>\n",
       "      <td>1.000000</td>\n",
       "      <td>0.060328</td>\n",
       "      <td>-0.058558</td>\n",
       "      <td>0.078184</td>\n",
       "    </tr>\n",
       "    <tr>\n",
       "      <th>11</th>\n",
       "      <td>0.002802</td>\n",
       "      <td>0.029814</td>\n",
       "      <td>0.065475</td>\n",
       "      <td>-0.039329</td>\n",
       "      <td>-0.035225</td>\n",
       "      <td>0.019025</td>\n",
       "      <td>-0.043925</td>\n",
       "      <td>0.001804</td>\n",
       "      <td>0.892367</td>\n",
       "      <td>0.060328</td>\n",
       "      <td>1.000000</td>\n",
       "      <td>-0.049554</td>\n",
       "      <td>0.078610</td>\n",
       "    </tr>\n",
       "    <tr>\n",
       "      <th>12</th>\n",
       "      <td>-0.019820</td>\n",
       "      <td>-0.023321</td>\n",
       "      <td>0.068031</td>\n",
       "      <td>-0.025904</td>\n",
       "      <td>-0.038398</td>\n",
       "      <td>-0.047975</td>\n",
       "      <td>0.909320</td>\n",
       "      <td>-0.013416</td>\n",
       "      <td>-0.023828</td>\n",
       "      <td>-0.058558</td>\n",
       "      <td>-0.049554</td>\n",
       "      <td>1.000000</td>\n",
       "      <td>0.061316</td>\n",
       "    </tr>\n",
       "    <tr>\n",
       "      <th>13</th>\n",
       "      <td>-0.041378</td>\n",
       "      <td>-0.024881</td>\n",
       "      <td>0.922672</td>\n",
       "      <td>0.040678</td>\n",
       "      <td>-0.014749</td>\n",
       "      <td>0.090291</td>\n",
       "      <td>0.015141</td>\n",
       "      <td>0.065309</td>\n",
       "      <td>0.077312</td>\n",
       "      <td>0.078184</td>\n",
       "      <td>0.078610</td>\n",
       "      <td>0.061316</td>\n",
       "      <td>1.000000</td>\n",
       "    </tr>\n",
       "  </tbody>\n",
       "</table>\n",
       "</div>"
      ],
      "text/plain": [
       "          1         2         3         4         5         6         7   \\\n",
       "1   1.000000  0.905987 -0.058061 -0.109712  0.019934  0.014084 -0.051011   \n",
       "2   0.905987  1.000000 -0.046611 -0.079669  0.015120  0.014146 -0.069957   \n",
       "3  -0.058061 -0.046611  1.000000  0.021284 -0.004270  0.080113  0.032160   \n",
       "4  -0.109712 -0.079669  0.021284  1.000000  0.050188  0.013692 -0.002636   \n",
       "5   0.019934  0.015120 -0.004270  0.050188  1.000000 -0.094048 -0.015061   \n",
       "6   0.014084  0.014146  0.080113  0.013692 -0.094048  1.000000 -0.048396   \n",
       "7  -0.051011 -0.069957  0.032160 -0.002636 -0.015061 -0.048396  1.000000   \n",
       "8  -0.113958 -0.080885  0.041422  0.873203  0.092392 -0.019820 -0.003091   \n",
       "9   0.034869  0.045840  0.078583 -0.055007 -0.016667  0.084874 -0.036833   \n",
       "10  0.014837  0.014604  0.079103  0.011252 -0.109689  0.901242 -0.049833   \n",
       "11  0.002802  0.029814  0.065475 -0.039329 -0.035225  0.019025 -0.043925   \n",
       "12 -0.019820 -0.023321  0.068031 -0.025904 -0.038398 -0.047975  0.909320   \n",
       "13 -0.041378 -0.024881  0.922672  0.040678 -0.014749  0.090291  0.015141   \n",
       "\n",
       "          8         9         10        11        12        13  \n",
       "1  -0.113958  0.034869  0.014837  0.002802 -0.019820 -0.041378  \n",
       "2  -0.080885  0.045840  0.014604  0.029814 -0.023321 -0.024881  \n",
       "3   0.041422  0.078583  0.079103  0.065475  0.068031  0.922672  \n",
       "4   0.873203 -0.055007  0.011252 -0.039329 -0.025904  0.040678  \n",
       "5   0.092392 -0.016667 -0.109689 -0.035225 -0.038398 -0.014749  \n",
       "6  -0.019820  0.084874  0.901242  0.019025 -0.047975  0.090291  \n",
       "7  -0.003091 -0.036833 -0.049833 -0.043925  0.909320  0.015141  \n",
       "8   1.000000 -0.020271 -0.015499  0.001804 -0.013416  0.065309  \n",
       "9  -0.020271  1.000000  0.113340  0.892367 -0.023828  0.077312  \n",
       "10 -0.015499  0.113340  1.000000  0.060328 -0.058558  0.078184  \n",
       "11  0.001804  0.892367  0.060328  1.000000 -0.049554  0.078610  \n",
       "12 -0.013416 -0.023828 -0.058558 -0.049554  1.000000  0.061316  \n",
       "13  0.065309  0.077312  0.078184  0.078610  0.061316  1.000000  "
      ]
     },
     "execution_count": 7,
     "metadata": {},
     "output_type": "execute_result"
    }
   ],
   "source": [
    "data[range(1, 14)].corr()"
   ]
  },
  {
   "cell_type": "code",
   "execution_count": 8,
   "id": "3c0c9f13",
   "metadata": {},
   "outputs": [
    {
     "data": {
      "image/png": "[encoded data removed]",
      "text/plain": [
       "<Figure size 432x288 with 2 Axes>"
      ]
     },
     "metadata": {
      "needs_background": "light"
     },
     "output_type": "display_data"
    }
   ],
   "source": [
    "sns.heatmap(data[range(1, 14)].corr().abs())\n",
    "plt.show()"
   ]
  },
  {
   "cell_type": "markdown",
   "id": "2093b4cc",
   "metadata": {},
   "source": [
    "## Question 2: What conclusion can you make about the structure of your predictors after analysis of correlation matrix?"
   ]
  },
  {
   "cell_type": "markdown",
   "id": "9659cfa0",
   "metadata": {},
   "source": [
    "As the heatmap suggests, some pairs of variables have high correlation: $(X_{1}, X_{2})$, $(X_{3}, X_{13})$, $(X_{4}, X_{8})$, $(X_{6}, X_{10})$, $(X_{7}, X_{12})$, $(X_{9}, X_{11})$. This implies the variance of the weight vector will be large, and eliminating/combining variables inside pairs could improve the model."
   ]
  },
  {
   "cell_type": "markdown",
   "id": "bcb2590d",
   "metadata": {},
   "source": [
    "## task 6: Scikit-learn code for least square estimation"
   ]
  },
  {
   "cell_type": "code",
   "execution_count": 9,
   "id": "5a8e9114",
   "metadata": {},
   "outputs": [],
   "source": [
    "X = np.array(data[range(1, 14)])\n",
    "Y = np.array(data[14]).reshape((-1, 1))"
   ]
  },
  {
   "cell_type": "code",
   "execution_count": 10,
   "id": "6cbcfea4",
   "metadata": {},
   "outputs": [
    {
     "data": {
      "text/plain": [
       "LinearRegression()"
      ]
     },
     "execution_count": 10,
     "metadata": {},
     "output_type": "execute_result"
    }
   ],
   "source": [
    "lsr = LinearRegression()\n",
    "lsr.fit(X, Y)"
   ]
  },
  {
   "cell_type": "markdown",
   "id": "36812f72",
   "metadata": {},
   "source": [
    "## task 7: Obtain weights"
   ]
  },
  {
   "cell_type": "code",
   "execution_count": 11,
   "id": "9481c29a",
   "metadata": {},
   "outputs": [],
   "source": [
    "b0, b1= lsr.intercept_, lsr.coef_"
   ]
  },
  {
   "cell_type": "code",
   "execution_count": 12,
   "id": "aaf01348",
   "metadata": {},
   "outputs": [
    {
     "data": {
      "text/plain": [
       "array([ 9.98106948e+00,  4.20771974e-03,  9.95029165e-01,  8.47046231e-04,\n",
       "       -2.33092728e-04, -1.55855445e-03,  3.33720593e-03, -2.69419679e-03,\n",
       "       -4.99755140e-01,  2.96609913e-03,  4.95716640e-01, -4.00404989e+00,\n",
       "       -1.99602979e+00,  2.99963167e+00])"
      ]
     },
     "execution_count": 12,
     "metadata": {},
     "output_type": "execute_result"
    }
   ],
   "source": [
    "b = np.c_[b0, b1][0]\n",
    "b"
   ]
  },
  {
   "cell_type": "markdown",
   "id": "b20808cf",
   "metadata": {},
   "source": [
    "## task 8: Estimate variance of noise $\\epsilon$"
   ]
  },
  {
   "cell_type": "code",
   "execution_count": 13,
   "id": "688a29e3",
   "metadata": {},
   "outputs": [
    {
     "data": {
      "text/plain": [
       "0.057621145562278465"
      ]
     },
     "execution_count": 13,
     "metadata": {},
     "output_type": "execute_result"
    }
   ],
   "source": [
    "mse = sklearn.metrics.mean_squared_error(Y, lsr.predict(X))\n",
    "mse"
   ]
  },
  {
   "cell_type": "markdown",
   "id": "4712b1d3",
   "metadata": {},
   "source": [
    "## task 9: t-values of non-target variables"
   ]
  },
  {
   "cell_type": "code",
   "execution_count": 14,
   "id": "f5cfd498",
   "metadata": {},
   "outputs": [
    {
     "data": {
      "text/plain": [
       "array([1.43144260e+00, 3.03307115e+02, 2.72033313e-01, 8.86088072e-02,\n",
       "       1.11156904e+00, 1.17324997e+00, 8.79164092e-01, 1.70029783e+02,\n",
       "       1.02746101e+00, 1.64307235e+02, 1.26872044e+03, 5.58483668e+02,\n",
       "       8.78101625e+02])"
      ]
     },
     "execution_count": 14,
     "metadata": {},
     "output_type": "execute_result"
    }
   ],
   "source": [
    "XTX1 = np.linalg.inv((X.T@X))\n",
    "ts = b1[0]/(np.sqrt(XTX1.diagonal())*np.sqrt(mse))\n",
    "t_abs = np.abs(ts)\n",
    "t_abs"
   ]
  },
  {
   "cell_type": "markdown",
   "id": "dc7381d7",
   "metadata": {},
   "source": [
    "## task 10: Based on the value of $t_i$ find all your variables that is relevant for prediction."
   ]
  },
  {
   "cell_type": "code",
   "execution_count": 15,
   "id": "25ab01d5",
   "metadata": {},
   "outputs": [
    {
     "data": {
      "text/plain": [
       "array([0.15339908, 0.        , 0.78579337, 0.92945504, 0.26726031,\n",
       "       0.24167518, 0.38005296, 0.        , 0.30507466, 0.        ,\n",
       "       0.        , 0.        , 0.        ])"
      ]
     },
     "execution_count": 15,
     "metadata": {},
     "output_type": "execute_result"
    }
   ],
   "source": [
    "t_stat = t_abs\n",
    "dof = 285\n",
    "2*(1 - stats.t.cdf(abs(t_stat), dof))"
   ]
  },
  {
   "cell_type": "markdown",
   "id": "46cee847",
   "metadata": {},
   "source": [
    "All variables with high absolute $t$ value can be considered relevant for the prediction. Formally, at $\\alpha = 0.1$ significance level, we reject $H_0$ for variables with $p$-values less than $0.05$: $X_2, X_8, X_{10}, X_{11}, X_{12}, X_{13}$ (test 8.5.1 from the textbook).\n",
    "So far we rejected insignificance ($H_0$) in either of tests for the following variables: $X_1, X_2, X_3, X_6, X_7, X_8, X_9, X_{10} X_{11}, X_{12}, X_{13}$."
   ]
  },
  {
   "cell_type": "markdown",
   "id": "bd737258",
   "metadata": {},
   "source": [
    "## Question 3: List variables that can be discarded."
   ]
  },
  {
   "cell_type": "markdown",
   "id": "d451a078",
   "metadata": {},
   "source": [
    "By eliminating pairs of highly correlated variables (and possibly prioritizing those variables which passed both tests), we may leave $X_2, X_8, X_{10}, X_{11}, X_{12}, X_{13}$. Thus the list of discarded variables is: $X_1, X_3, X_4, X_5, X_6, X_7, X_9$"
   ]
  },
  {
   "cell_type": "markdown",
   "id": "c61b0f90",
   "metadata": {},
   "source": [
    "## task 12: Calculate residuals and draw Q-Q plot"
   ]
  },
  {
   "cell_type": "code",
   "execution_count": 16,
   "id": "46014b7c",
   "metadata": {},
   "outputs": [],
   "source": [
    "res = Y - lsr.predict(X)"
   ]
  },
  {
   "cell_type": "code",
   "execution_count": 17,
   "id": "67627291",
   "metadata": {},
   "outputs": [
    {
     "data": {
      "image/png": "[encoded data removed]",
      "text/plain": [
       "<Figure size 432x288 with 1 Axes>"
      ]
     },
     "metadata": {
      "needs_background": "light"
     },
     "output_type": "display_data"
    }
   ],
   "source": [
    "stats.probplot(res.reshape(1, 300)[0], dist=\"norm\", plot=pylab)\n",
    "pylab.show()"
   ]
  },
  {
   "cell_type": "markdown",
   "id": "945d3dfe",
   "metadata": {},
   "source": [
    "## Question 4: Is an error normally distributed, yes or no?"
   ]
  },
  {
   "cell_type": "markdown",
   "id": "9d747793",
   "metadata": {},
   "source": [
    "Based on the Q-Q plot, residuals are distributed very close to the normal distribution. However, regular deviations (repeated up- and down-skewed parts) suggest that error is not normally distributed."
   ]
  },
  {
   "cell_type": "markdown",
   "id": "0be26142",
   "metadata": {},
   "source": [
    "## task 14: Draw a plot \"residuals against $\\hat{Y}$\"."
   ]
  },
  {
   "cell_type": "code",
   "execution_count": 18,
   "id": "0ccfedfd",
   "metadata": {},
   "outputs": [],
   "source": [
    "res_data = pd.DataFrame()\n",
    "res_data[\"res\"] = (res.reshape(1, 300)[0])\n",
    "Y_hat = lsr.predict(X)\n",
    "res_data[\"Y_hat\"] = Y_hat.reshape(1, 300)[0]"
   ]
  },
  {
   "cell_type": "code",
   "execution_count": 19,
   "id": "4f06acaf",
   "metadata": {},
   "outputs": [
    {
     "data": {
      "image/png": "[encoded data removed]",
      "text/plain": [
       "<Figure size 432x432 with 3 Axes>"
      ]
     },
     "metadata": {
      "needs_background": "light"
     },
     "output_type": "display_data"
    }
   ],
   "source": [
    "sns.jointplot(data = res_data, x = \"Y_hat\", y = \"res\")\n",
    "plt.show()"
   ]
  },
  {
   "cell_type": "markdown",
   "id": "ef14041b",
   "metadata": {},
   "source": [
    "## Question 5: If your error is not normal, what would you assume about the real distribution of an error?"
   ]
  },
  {
   "cell_type": "markdown",
   "id": "c1f4ad0e",
   "metadata": {},
   "source": [
    "Based on Q-Q and \"residue vs. $\\hat{Y}$\" plots, the error might come from some **bi-modal** or **heavy-tailed** distribution. A srtong indicator of that is presence of two peaks on the histogram of \"residue\" axis."
   ]
  },
  {
   "cell_type": "markdown",
   "id": "dcfa6add",
   "metadata": {},
   "source": [
    "## task 16: $R^2$"
   ]
  },
  {
   "cell_type": "code",
   "execution_count": 20,
   "id": "61d8a6ff",
   "metadata": {},
   "outputs": [
    {
     "data": {
      "text/plain": [
       "0.9999791347054694"
      ]
     },
     "execution_count": 20,
     "metadata": {},
     "output_type": "execute_result"
    }
   ],
   "source": [
    "lsr.score(X, Y)"
   ]
  },
  {
   "cell_type": "markdown",
   "id": "a3b12c65",
   "metadata": {},
   "source": [
    "## Question 6: Did linear regression model solve the prediction problem or not?"
   ]
  },
  {
   "cell_type": "markdown",
   "id": "0b888641",
   "metadata": {},
   "source": [
    "Low Mean-Squared-Error and high coefficient of determination suggest that linear regression model is a successful predictor of target variable."
   ]
  }
 ],
 "metadata": {
  "kernelspec": {
   "display_name": "Python 3",
   "language": "python",
   "name": "python3"
  },
  "language_info": {
   "codemirror_mode": {
    "name": "ipython",
    "version": 3
   },
   "file_extension": ".py",
   "mimetype": "text/x-python",
   "name": "python",
   "nbconvert_exporter": "python",
   "pygments_lexer": "ipython3",
   "version": "3.8.8"
  }
 },
 "nbformat": 4,
 "nbformat_minor": 5
}
